{
  "nbformat": 4,
  "nbformat_minor": 0,
  "metadata": {
    "colab": {
      "name": "AnaliseCovid.ipynb",
      "provenance": [],
      "authorship_tag": "ABX9TyOanWNqasuaV7rbw0YyF2Qz",
      "include_colab_link": true
    },
    "kernelspec": {
      "name": "python3",
      "display_name": "Python 3"
    },
    "language_info": {
      "name": "python"
    }
  },
  "cells": [
    {
      "cell_type": "markdown",
      "metadata": {
        "id": "view-in-github",
        "colab_type": "text"
      },
      "source": [
        "<a href=\"https://colab.research.google.com/github/jamescp/Utils/blob/master/AnaliseCovid.ipynb\" target=\"_parent\"><img src=\"https://colab.research.google.com/assets/colab-badge.svg\" alt=\"Open In Colab\"/></a>"
      ]
    },
    {
      "cell_type": "markdown",
      "source": [
        "## **Análise dos dados da pandemia de Covid-19 no Maranhão durante o ano de 2020.**"
      ],
      "metadata": {
        "id": "19IS9P8eJ-VC"
      }
    },
    {
      "cell_type": "markdown",
      "source": [
        "\n",
        "\n",
        "No Brasil no início da pandemia, os casos se concentraram nas capitais, seguindo-se o processo de interiorização, com aumento de novos casos em cidades de menor porte populacional (Silva; Jardim; Santos, 2020). \n"
      ],
      "metadata": {
        "id": "p5WmIgZSK6Zz"
      }
    },
    {
      "cell_type": "code",
      "execution_count": 1,
      "metadata": {
        "id": "e9tb9VRAJqFw"
      },
      "outputs": [],
      "source": [
        "import numpy as np\n",
        "import pandas as pd\n"
      ]
    },
    {
      "cell_type": "markdown",
      "source": [
        ""
      ],
      "metadata": {
        "id": "HcuhrnhGJ9Sy"
      }
    }
  ]
}